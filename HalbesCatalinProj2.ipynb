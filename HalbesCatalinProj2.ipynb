{
 "cells": [
  {
   "cell_type": "code",
   "execution_count": 1,
   "metadata": {},
   "outputs": [],
   "source": [
    "import numpy as np\n",
    "import pandas as pd\n",
    "from copy import copy, deepcopy\n",
    "\n",
    "from DecisionTree import RegressionTree\n",
    "from Metrics import PerformanceMetrics as pm\n",
    "\n",
    "np.set_printoptions(linewidth = 200)\n",
    "\n",
    "input_file = \"WEC.csv\"\n",
    "RANDOM_STATE = 42\n",
    "TEST_FRACTION = 0.3"
   ]
  },
  {
   "cell_type": "code",
   "execution_count": 2,
   "metadata": {},
   "outputs": [],
   "source": [
    "def data_split(input_data, output_data, train_fraction = 0.8, shuffle = True, random_state = None):\n",
    "    from numpy.random import RandomState\n",
    "\n",
    "    assert len(input_data) == len(output_data), \"input and output arrays should have the same number of rows\"\n",
    "    rs = RandomState(random_state)\n",
    "    if shuffle:\n",
    "        permutation = rs.permutation(len(input_data))\n",
    "        inputs = input_data[permutation]\n",
    "        outputs = output_data[permutation]\n",
    "    else:\n",
    "        inputs = input_data\n",
    "        outputs = output_data\n",
    "\n",
    "    split_index = int(len(input_data) * train_fraction)\n",
    "    train_in, test_in = np.split(inputs, [split_index])\n",
    "    train_out, test_out = np.split(outputs, [split_index])\n",
    "\n",
    "    return train_in, test_in, train_out, test_out"
   ]
  },
  {
   "cell_type": "code",
   "execution_count": 3,
   "metadata": {},
   "outputs": [],
   "source": [
    "def concat_except(arr, exclude):\n",
    "    arr_excluded = copy(arr)\n",
    "    arr_excluded.pop(exclude)\n",
    "    return np.concatenate(arr_excluded, axis = 0)\n",
    "\n",
    "def k_fold_cross_validation(model, input_data, output_data, scoring_funcs, folds = 10, shuffle = True, random_state = None):\n",
    "    from numpy.random import RandomState\n",
    "\n",
    "    assert len(input_data) == len(output_data), \"input and output arrays should have the same number of rows\"\n",
    "\n",
    "    scores = np.zeros((len(scoring_funcs), folds))\n",
    "\n",
    "    rs = RandomState(random_state)\n",
    "    if shuffle:\n",
    "        permutation = rs.permutation(len(input_data))\n",
    "        inputs = input_data[permutation]\n",
    "        outputs = output_data[permutation]\n",
    "    else:\n",
    "        inputs = input_data\n",
    "        outputs = output_data\n",
    "\n",
    "    input_folds = np.array_split(inputs, folds)\n",
    "    output_folds = np.array_split(outputs, folds)\n",
    "\n",
    "    for fold_index in range(folds):\n",
    "        # print(f\"========fold {fold_index}==========\")\n",
    "        test_input_fold = input_folds[fold_index]\n",
    "        test_output_fold = output_folds[fold_index]\n",
    "\n",
    "        train_input_fold = concat_except(input_folds, exclude = fold_index)\n",
    "        train_output_fold = concat_except(output_folds, exclude = fold_index)\n",
    "\n",
    "        fold_model = deepcopy(model)\n",
    "\n",
    "        fold_model.fit(train_input_fold, train_output_fold)\n",
    "        prediction = fold_model.predict(test_input_fold)\n",
    "\n",
    "        for score_func_index in range(len(scoring_funcs)):\n",
    "            scores[score_func_index][fold_index] = scoring_funcs[score_func_index](test_output_fold, prediction)\n",
    "            # print(f\"func {score_func_index}: {scores[score_func_index][fold_index]}\")\n",
    "\n",
    "    return scores\n",
    "        \n"
   ]
  },
  {
   "cell_type": "code",
   "execution_count": 4,
   "metadata": {},
   "outputs": [],
   "source": [
    "def print_k_fold_cross_validation_scores(scores: np.ndarray, scores_names):\n",
    "    assert len(scores) == len(scores_names), \"scores and scores_names should have the same number of elements\"\n",
    "\n",
    "    for i in range(len(scores)):\n",
    "        print(scores_names[i])\n",
    "        val_mean = scores[i].mean()\n",
    "        val_std = scores[i].std()\n",
    "        interval = (1.96 * val_std)\n",
    "        print(f\"mean: {val_mean:15.3f}\")\n",
    "        print(f\"std : {val_std:15.3f}\")\n",
    "        print(f\"95% : {interval:15.3f}\")"
   ]
  },
  {
   "cell_type": "code",
   "execution_count": 5,
   "metadata": {},
   "outputs": [],
   "source": [
    "df = pd.read_csv(input_file, header = 0)\n",
    "original_headers = list(df.columns.values)\n",
    "input_headers = original_headers[:98]\n",
    "output_header = original_headers[-1]\n",
    "\n",
    "input_data = df[input_headers].to_numpy()\n",
    "output_data = df[output_header].to_numpy()\n",
    "\n",
    "train_input, test_input, train_output, test_output = data_split(input_data, output_data, train_fraction = TEST_FRACTION, random_state = RANDOM_STATE)"
   ]
  },
  {
   "cell_type": "code",
   "execution_count": 6,
   "metadata": {},
   "outputs": [
    {
     "name": "stdout",
     "output_type": "stream",
     "text": [
      "MAE\n",
      "mean:       17935.435\n",
      "std :         695.077\n",
      "95% :        1362.352\n",
      "MSE\n",
      "mean:  1502821619.039\n",
      "std :   104683168.791\n",
      "95% :   205179010.831\n",
      "RMSE\n",
      "mean:       38743.082\n",
      "std :        1339.857\n",
      "95% :        2626.120\n",
      "MAPE\n",
      "mean:           0.005\n",
      "std :           0.000\n",
      "95% :           0.000\n",
      "R2\n",
      "mean:           0.900\n",
      "std :           0.007\n",
      "95% :           0.013\n",
      "NRMSE\n",
      "mean:           0.010\n",
      "std :           0.000\n",
      "95% :           0.001\n"
     ]
    }
   ],
   "source": [
    "rt = RegressionTree(loss_func = pm.MSE, max_depth = 20, min_samples_split = 30, min_samples_leaf = 10, postpruning = True)\n",
    "\n",
    "scoring_funcs = (pm.MAE, pm.MSE, pm.RMSE, pm.MAPE, pm.R2, pm.NRMSE)\n",
    "scoring_funcs_names = ('MAE', 'MSE', 'RMSE', 'MAPE', 'R2', 'NRMSE')\n",
    "\n",
    "cv_score = k_fold_cross_validation(rt, input_data, output_data, scoring_funcs = scoring_funcs, folds = 10, shuffle = True, random_state = RANDOM_STATE)\n",
    "print_k_fold_cross_validation_scores(cv_score, scoring_funcs_names)"
   ]
  },
  {
   "cell_type": "code",
   "execution_count": 7,
   "metadata": {},
   "outputs": [
    {
     "name": "stdout",
     "output_type": "stream",
     "text": [
      "MAE\n",
      "mean:       16441.438\n",
      "std :         493.372\n",
      "95% :         967.010\n",
      "MSE\n",
      "mean:  1386964329.468\n",
      "std :    74112357.573\n",
      "95% :   145260220.844\n",
      "RMSE\n",
      "mean:       37228.775\n",
      "std :         991.286\n",
      "95% :        1942.920\n",
      "MAPE\n",
      "mean:           0.004\n",
      "std :           0.000\n",
      "95% :           0.000\n",
      "R2\n",
      "mean:           0.908\n",
      "std :           0.004\n",
      "95% :           0.008\n",
      "NRMSE\n",
      "mean:           0.009\n",
      "std :           0.000\n",
      "95% :           0.000\n"
     ]
    }
   ],
   "source": [
    "rt = RegressionTree(loss_func = pm.MSE, max_depth = 20, min_samples_split = 30, min_samples_leaf = 10, postpruning = False)\n",
    "\n",
    "scoring_funcs = (pm.MAE, pm.MSE, pm.RMSE, pm.MAPE, pm.R2, pm.NRMSE)\n",
    "scoring_funcs_names = ('MAE', 'MSE', 'RMSE', 'MAPE', 'R2', 'NRMSE')\n",
    "\n",
    "cv_score = k_fold_cross_validation(rt, input_data, output_data, scoring_funcs = scoring_funcs, folds = 10, shuffle = True, random_state = RANDOM_STATE)\n",
    "print_k_fold_cross_validation_scores(cv_score, scoring_funcs_names)"
   ]
  },
  {
   "cell_type": "code",
   "execution_count": 8,
   "metadata": {},
   "outputs": [
    {
     "name": "stdout",
     "output_type": "stream",
     "text": [
      "MAE\n",
      "mean:       16404.377\n",
      "std :         469.985\n",
      "95% :         921.170\n",
      "MSE\n",
      "mean:  1391058504.364\n",
      "std :    69951464.539\n",
      "95% :   137104870.496\n",
      "RMSE\n",
      "mean:       37285.191\n",
      "std :         934.372\n",
      "95% :        1831.368\n",
      "MAPE\n",
      "mean:           0.004\n",
      "std :           0.000\n",
      "95% :           0.000\n",
      "R2\n",
      "mean:           0.907\n",
      "std :           0.004\n",
      "95% :           0.009\n",
      "NRMSE\n",
      "mean:           0.009\n",
      "std :           0.000\n",
      "95% :           0.000\n"
     ]
    }
   ],
   "source": [
    "from sklearn.tree import DecisionTreeRegressor\n",
    "dt = DecisionTreeRegressor(max_depth = 20, min_samples_split = 30, min_samples_leaf = 10, random_state = RANDOM_STATE)\n",
    "\n",
    "scoring_funcs = (pm.MAE, pm.MSE, pm.RMSE, pm.MAPE, pm.R2, pm.NRMSE)\n",
    "scoring_funcs_names = ('MAE', 'MSE', 'RMSE', 'MAPE', 'R2', 'NRMSE')\n",
    "\n",
    "cv_score = k_fold_cross_validation(dt, input_data, output_data, scoring_funcs = scoring_funcs, folds = 10, shuffle = True, random_state = RANDOM_STATE)\n",
    "print_k_fold_cross_validation_scores(cv_score, scoring_funcs_names)"
   ]
  }
 ],
 "metadata": {
  "kernelspec": {
   "display_name": "Python 3",
   "language": "python",
   "name": "python3"
  },
  "language_info": {
   "codemirror_mode": {
    "name": "ipython",
    "version": 3
   },
   "file_extension": ".py",
   "mimetype": "text/x-python",
   "name": "python",
   "nbconvert_exporter": "python",
   "pygments_lexer": "ipython3",
   "version": "3.12.0"
  }
 },
 "nbformat": 4,
 "nbformat_minor": 2
}
